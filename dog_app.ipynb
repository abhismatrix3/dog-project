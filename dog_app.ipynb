{
  "nbformat": 4,
  "nbformat_minor": 0,
  "metadata": {
    "colab": {
      "name": "dog_app.ipynb",
      "version": "0.3.2",
      "provenance": []
    },
    "kernelspec": {
      "display_name": "Python 3",
      "language": "python",
      "name": "python3"
    }
  },
  "cells": [
    {
      "metadata": {
        "id": "lpBY7WfYU-Rc",
        "colab_type": "text"
      },
      "cell_type": "markdown",
      "source": [
        "# Artificial Intelligence Nanodegree\n",
        "\n",
        "## Convolutional Neural Networks\n",
        "\n",
        "## Project: Write an Algorithm for a Dog Identification App \n",
        "\n",
        "---\n",
        "\n",
        "In this notebook, some template code has already been provided for you, and you will need to implement additional functionality to successfully complete this project. You will not need to modify the included code beyond what is requested. Sections that begin with **'(IMPLEMENTATION)'** in the header indicate that the following block of code will require additional functionality which you must provide. Instructions will be provided for each section, and the specifics of the implementation are marked in the code block with a 'TODO' statement. Please be sure to read the instructions carefully! \n",
        "\n",
        "> **Note**: Once you have completed all of the code implementations, you need to finalize your work by exporting the iPython Notebook as an HTML document. Before exporting the notebook to html, all of the code cells need to have been run so that reviewers can see the final implementation and output. You can then export the notebook by using the menu above and navigating to  \\n\",\n",
        "    \"**File -> Download as -> HTML (.html)**. Include the finished document along with this notebook as your submission.\n",
        "\n",
        "In addition to implementing code, there will be questions that you must answer which relate to the project and your implementation. Each section where you will answer a question is preceded by a **'Question X'** header. Carefully read each question and provide thorough answers in the following text boxes that begin with **'Answer:'**. Your project submission will be evaluated based on your answers to each of the questions and the implementation you provide.\n",
        "\n",
        ">**Note:** Code and Markdown cells can be executed using the **Shift + Enter** keyboard shortcut.  Markdown cells can be edited by double-clicking the cell to enter edit mode.\n",
        "\n",
        "The rubric contains _optional_ \"Stand Out Suggestions\" for enhancing the project beyond the minimum requirements. If you decide to pursue the \"Stand Out Suggestions\", you should include the code in this IPython notebook.\n",
        "\n",
        "\n",
        "\n",
        "---\n",
        "### Why We're Here \n",
        "\n",
        "In this notebook, you will make the first steps towards developing an algorithm that could be used as part of a mobile or web app.  At the end of this project, your code will accept any user-supplied image as input.  If a dog is detected in the image, it will provide an estimate of the dog's breed.  If a human is detected, it will provide an estimate of the dog breed that is most resembling.  The image below displays potential sample output of your finished project (... but we expect that each student's algorithm will behave differently!). \n",
        "\n",
        "![Sample Dog Output](https://github.com/abhismatrix3/dog-project/blob/master/images/sample_dog_output.png?raw=1)\n",
        "\n",
        "In this real-world setting, you will need to piece together a series of models to perform different tasks; for instance, the algorithm that detects humans in an image will be different from the CNN that infers dog breed.  There are many points of possible failure, and no perfect algorithm exists.  Your imperfect solution will nonetheless create a fun user experience!\n",
        "\n",
        "### The Road Ahead\n",
        "\n",
        "We break the notebook into separate steps.  Feel free to use the links below to navigate the notebook.\n",
        "\n",
        "* [Step 00](#step00): Mount google drive in colab machine to read write data\n",
        "* [Step 0](#step0): Import Datasets\n",
        "* [Step 1](#step1): Detect Humans\n",
        "* [Step 2](#step2): Detect Dogs\n",
        "* [Step 3](#step3): Create a CNN to Classify Dog Breeds (from Scratch)\n",
        "* [Step 4](#step4): Use a CNN to Classify Dog Breeds (using Transfer Learning)\n",
        "* [Step 5](#step5): Create a CNN to Classify Dog Breeds (using Transfer Learning)\n",
        "* [Step 6](#step6): Write your Algorithm\n",
        "* [Step 7](#step7): Test Your Algorithm\n",
        "\n",
        "\n",
        "---\n",
        "<a id='step00'></a>\n",
        "## Step 00: Mount google drive in colab machine to read write data\n",
        "\n",
        "### Mount google drive\n",
        "\n",
        "In the code cell below, we mount google drive to read stored data from there and to write data (save model ) in drive. As you local harddisk is mounted on your local machine at 'C:'. Here we will mount at 'g:'\n",
        "- Run the below code cell and click on the link to signin google drive and enter the generated code below if prompted. \n"
      ]
    },
    {
      "metadata": {
        "id": "HWzT8U_7U-Rf",
        "colab_type": "code",
        "colab": {}
      },
      "cell_type": "code",
      "source": [
        "from google.colab import drive\n",
        "drive.mount('/g')"
      ],
      "execution_count": 0,
      "outputs": []
    },
    {
      "metadata": {
        "id": "fLmp3B04U-Rl",
        "colab_type": "code",
        "colab": {}
      },
      "cell_type": "code",
      "source": [
        "# Explore your g-drive. realise that now it works just as your local storage file system. Change the working directory to dog-project\n",
        "from glob import glob\n",
        "import os\n",
        "os.chdir('/g/My Drive/dog-project')\n",
        "\n",
        "folders=glob('*')\n",
        "folders"
      ],
      "execution_count": 0,
      "outputs": []
    },
    {
      "metadata": {
        "id": "kjsdAN8wU-Rq",
        "colab_type": "text"
      },
      "cell_type": "markdown",
      "source": [
        "### Make sure you execute these below 5 steps only once to download data. Once downloaded it will exist forever in your google drive. "
      ]
    },
    {
      "metadata": {
        "id": "HWpnYMIfU-Rs",
        "colab_type": "code",
        "colab": {}
      },
      "cell_type": "code",
      "source": [
        "# check that you have right folder structure\n",
        "\n",
        "glob('/g/My Drive/dog-project/*')\n"
      ],
      "execution_count": 0,
      "outputs": []
    },
    {
      "metadata": {
        "id": "32te5jquU-Rw",
        "colab_type": "code",
        "colab": {}
      },
      "cell_type": "code",
      "source": [
        "#download dog dataset on google drive\n",
        "%%sh\n",
        "wget 'https://s3-us-west-1.amazonaws.com/udacity-aind/dog-project/dogImages.zip' -P '/g/My Drive/dog-project'"
      ],
      "execution_count": 0,
      "outputs": []
    },
    {
      "metadata": {
        "id": "49oPuHULU-Rz",
        "colab_type": "code",
        "colab": {}
      },
      "cell_type": "code",
      "source": [
        "#download human dataset on google drive\n",
        "%%sh\n",
        "wget 'https://s3-us-west-1.amazonaws.com/udacity-aind/dog-project/lfw.zip' -P '/g/My Drive/dog-project'"
      ],
      "execution_count": 0,
      "outputs": []
    },
    {
      "metadata": {
        "id": "0DRSoTdRU-R1",
        "colab_type": "text"
      },
      "cell_type": "markdown",
      "source": [
        "### Unzip downloaded files\n",
        "\n",
        "After downloading above zip files you have to unzip that in drive maintaining the same folder name structure. "
      ]
    },
    {
      "metadata": {
        "id": "qxy6-5raU-R3",
        "colab_type": "code",
        "colab": {}
      },
      "cell_type": "code",
      "source": [
        "%%sh\n",
        "\n",
        "unzip /g/My\\ Drive/dog-project/lfw.zip -d '/g/My Drive/dog-project'"
      ],
      "execution_count": 0,
      "outputs": []
    },
    {
      "metadata": {
        "id": "vz0eIJv9YXN_",
        "colab_type": "code",
        "colab": {}
      },
      "cell_type": "code",
      "source": [
        "%%sh\n",
        "unzip /g/My\\ Drive/dog-project/dogImages.zip -d '/g/My Drive/dog-project'"
      ],
      "execution_count": 0,
      "outputs": []
    },
    {
      "metadata": {
        "id": "FlhkFMH6U-R4",
        "colab_type": "code",
        "colab": {}
      },
      "cell_type": "code",
      "source": [
        "#download vgg bottleneck feature on google drive \n",
        "%%sh\n",
        "wget 'https://s3-us-west-1.amazonaws.com/udacity-aind/dog-project/DogVGG16Data.npz' -P '/g/My Drive/dog-project/bottleneck_features'"
      ],
      "execution_count": 0,
      "outputs": []
    },
    {
      "metadata": {
        "id": "Ui-9j95-U-R7",
        "colab_type": "text"
      },
      "cell_type": "markdown",
      "source": [
        "<a id='step0'></a>\n",
        "## Step 0: Import Datasets\n",
        "\n",
        "### Import Dog Dataset\n",
        "\n",
        "In the code cell below, we import a dataset of dog images.  We populate a few variables through the use of the `load_files` function from the scikit-learn library: (Also set your folder path to your uploaded folder on google drive)\n",
        "- `train_files`, `valid_files`, `test_files` - numpy arrays containing file paths to images\n",
        "- `train_targets`, `valid_targets`, `test_targets` - numpy arrays containing onehot-encoded classification labels \n",
        "- `dog_names` - list of string-valued dog breed names for translating labels"
      ]
    },
    {
      "metadata": {
        "id": "65UD0MpbU-R8",
        "colab_type": "code",
        "colab": {
          "base_uri": "https://localhost:8080/",
          "height": 124
        },
        "outputId": "466b250a-6658-4266-f935-eb21d637aece"
      },
      "cell_type": "code",
      "source": [
        "from sklearn.datasets import load_files       \n",
        "from keras.utils import np_utils\n",
        "import numpy as np\n",
        "from glob import glob\n",
        "\n",
        "\n",
        "# define function to load train, test, and validation datasets\n",
        "def load_dataset(path):\n",
        "    data = load_files(path)\n",
        "    dog_files = np.array(data['filenames'])\n",
        "    dog_targets = np_utils.to_categorical(np.array(data['target']), 133)\n",
        "    return dog_files, dog_targets\n",
        "\n",
        "# load train, test, and validation datasets\n",
        "train_files, train_targets = load_dataset('dogImages/train')\n",
        "valid_files, valid_targets = load_dataset('dogImages/valid')\n",
        "test_files, test_targets = load_dataset('dogImages/test')\n",
        "\n",
        "# load list of dog names\n",
        "dog_names = [item[20:-1] for item in sorted(glob(\"dogImages/train/*/\"))]\n",
        "\n",
        "# print statistics about the dataset\n",
        "print('There are %d total dog categories.' % len(dog_names))\n",
        "print('There are %s total dog images.\\n' % len(np.hstack([train_files, valid_files, test_files])))\n",
        "print('There are %d training dog images.' % len(train_files))\n",
        "print('There are %d validation dog images.' % len(valid_files))\n",
        "print('There are %d test dog images.'% len(test_files))"
      ],
      "execution_count": 0,
      "outputs": [
        {
          "output_type": "stream",
          "text": [
            "There are 133 total dog categories.\n",
            "There are 8351 total dog images.\n",
            "\n",
            "There are 6680 training dog images.\n",
            "There are 835 validation dog images.\n",
            "There are 836 test dog images.\n"
          ],
          "name": "stdout"
        }
      ]
    },
    {
      "metadata": {
        "id": "79R0wCCbU-R-",
        "colab_type": "text"
      },
      "cell_type": "markdown",
      "source": [
        "### Import Human Dataset\n",
        "\n",
        "In the code cell below, we import a dataset of human images, where the file paths are stored in the numpy array `human_files`."
      ]
    },
    {
      "metadata": {
        "id": "le4Jf4x3U-R_",
        "colab_type": "code",
        "colab": {
          "base_uri": "https://localhost:8080/",
          "height": 35
        },
        "outputId": "89d8162a-513c-461f-f38a-521eb1dde7c9"
      },
      "cell_type": "code",
      "source": [
        "import random\n",
        "random.seed(8675309)\n",
        "\n",
        "# load filenames in shuffled human dataset\n",
        "human_files = np.array(glob(\"lfw/*/*\"))\n",
        "random.shuffle(human_files)\n",
        "\n",
        "# print statistics about the dataset\n",
        "print('There are %d total human images.' % len(human_files))"
      ],
      "execution_count": 0,
      "outputs": [
        {
          "output_type": "stream",
          "text": [
            "There are 13233 total human images.\n"
          ],
          "name": "stdout"
        }
      ]
    },
    {
      "metadata": {
        "id": "kafW0f5EU-SD",
        "colab_type": "text"
      },
      "cell_type": "markdown",
      "source": [
        "---\n",
        "<a id='step1'></a>\n",
        "## Step 1: Detect Humans\n",
        "\n",
        "We use OpenCV's implementation of [Haar feature-based cascade classifiers](http://docs.opencv.org/trunk/d7/d8b/tutorial_py_face_detection.html) to detect human faces in images.  OpenCV provides many pre-trained face detectors, stored as XML files on [github](https://github.com/opencv/opencv/tree/master/data/haarcascades).  We have downloaded one of these detectors and stored it in the `haarcascades` directory.\n",
        "\n",
        "In the next code cell, we demonstrate how to use this detector to find human faces in a sample image."
      ]
    },
    {
      "metadata": {
        "id": "UBqQ8QgmU-SD",
        "colab_type": "code",
        "colab": {}
      },
      "cell_type": "code",
      "source": [
        "import cv2                \n",
        "import matplotlib.pyplot as plt                        \n",
        "%matplotlib inline                               \n",
        "\n",
        "# extract pre-trained face detector\n",
        "face_cascade = cv2.CascadeClassifier('haarcascades/haarcascade_frontalface_alt.xml')\n",
        "\n",
        "# load color (BGR) image\n",
        "img = cv2.imread(human_files[3])\n",
        "# convert BGR image to grayscale\n",
        "gray = cv2.cvtColor(img, cv2.COLOR_BGR2GRAY)\n",
        "\n",
        "# find faces in image\n",
        "faces = face_cascade.detectMultiScale(gray)\n",
        "\n",
        "# print number of faces detected in the image\n",
        "print('Number of faces detected:', len(faces))\n",
        "\n",
        "# get bounding box for each detected face\n",
        "for (x,y,w,h) in faces:\n",
        "    # add bounding box to color image\n",
        "    cv2.rectangle(img,(x,y),(x+w,y+h),(255,0,0),2)\n",
        "    \n",
        "# convert BGR image to RGB for plotting\n",
        "cv_rgb = cv2.cvtColor(img, cv2.COLOR_BGR2RGB)\n",
        "\n",
        "# display the image, along with bounding box\n",
        "plt.imshow(cv_rgb)\n",
        "plt.show()"
      ],
      "execution_count": 0,
      "outputs": []
    },
    {
      "metadata": {
        "id": "7Ww1CsBnU-SF",
        "colab_type": "text"
      },
      "cell_type": "markdown",
      "source": [
        "Before using any of the face detectors, it is standard procedure to convert the images to grayscale.  The `detectMultiScale` function executes the classifier stored in `face_cascade` and takes the grayscale image as a parameter.  \n",
        "\n",
        "In the above code, `faces` is a numpy array of detected faces, where each row corresponds to a detected face.  Each detected face is a 1D array with four entries that specifies the bounding box of the detected face.  The first two entries in the array (extracted in the above code as `x` and `y`) specify the horizontal and vertical positions of the top left corner of the bounding box.  The last two entries in the array (extracted here as `w` and `h`) specify the width and height of the box.\n",
        "\n",
        "### Write a Human Face Detector\n",
        "\n",
        "We can use this procedure to write a function that returns `True` if a human face is detected in an image and `False` otherwise.  This function, aptly named `face_detector`, takes a string-valued file path to an image as input and appears in the code block below."
      ]
    },
    {
      "metadata": {
        "id": "T919zOHDU-SG",
        "colab_type": "code",
        "colab": {}
      },
      "cell_type": "code",
      "source": [
        "# returns \"True\" if face is detected in image stored at img_path\n",
        "def face_detector(img_path):\n",
        "    img = cv2.imread(img_path)\n",
        "    gray = cv2.cvtColor(img, cv2.COLOR_BGR2GRAY)\n",
        "    faces = face_cascade.detectMultiScale(gray)\n",
        "    return len(faces) > 0"
      ],
      "execution_count": 0,
      "outputs": []
    },
    {
      "metadata": {
        "id": "C4z28cOoU-SI",
        "colab_type": "text"
      },
      "cell_type": "markdown",
      "source": [
        "### (IMPLEMENTATION) Assess the Human Face Detector\n",
        "\n",
        "__Question 1:__ Use the code cell below to test the performance of the `face_detector` function.  \n",
        "- What percentage of the first 100 images in `human_files` have a detected human face?  \n",
        "- What percentage of the first 100 images in `dog_files` have a detected human face? \n",
        "\n",
        "Ideally, we would like 100% of human images with a detected face and 0% of dog images with a detected face.  You will see that our algorithm falls short of this goal, but still gives acceptable performance.  We extract the file paths for the first 100 images from each of the datasets and store them in the numpy arrays `human_files_short` and `dog_files_short`.\n",
        "\n",
        "__Answer:__ "
      ]
    },
    {
      "metadata": {
        "id": "ZyE6oTxnU-SJ",
        "colab_type": "code",
        "colab": {}
      },
      "cell_type": "code",
      "source": [
        "human_files_short = human_files[:100]\n",
        "dog_files_short = train_files[:100]\n",
        "# Do NOT modify the code above this line.\n",
        "\n",
        "## TODO: Test the performance of the face_detector algorithm \n",
        "## on the images in human_files_short and dog_files_short."
      ],
      "execution_count": 0,
      "outputs": []
    },
    {
      "metadata": {
        "id": "BR5JssdDU-SM",
        "colab_type": "text"
      },
      "cell_type": "markdown",
      "source": [
        "__Question 2:__ This algorithmic choice necessitates that we communicate to the user that we accept human images only when they provide a clear view of a face (otherwise, we risk having unneccessarily frustrated users!). In your opinion, is this a reasonable expectation to pose on the user? If not, can you think of a way to detect humans in images that does not necessitate an image with a clearly presented face?\n",
        "\n",
        "__Answer:__\n",
        "\n",
        "We suggest the face detector from OpenCV as a potential way to detect human images in your algorithm, but you are free to explore other approaches, especially approaches that make use of deep learning :).  Please use the code cell below to design and test your own face detection algorithm.  If you decide to pursue this _optional_ task, report performance on each of the datasets."
      ]
    },
    {
      "metadata": {
        "id": "9DZVhlsjU-SN",
        "colab_type": "code",
        "colab": {}
      },
      "cell_type": "code",
      "source": [
        "## (Optional) TODO: Report the performance of another  \n",
        "## face detection algorithm on the LFW dataset\n",
        "### Feel free to use as many code cells as needed."
      ],
      "execution_count": 0,
      "outputs": []
    },
    {
      "metadata": {
        "id": "_K9aUb4SU-SQ",
        "colab_type": "text"
      },
      "cell_type": "markdown",
      "source": [
        "---\n",
        "<a id='step2'></a>\n",
        "## Step 2: Detect Dogs\n",
        "\n",
        "In this section, we use a pre-trained [ResNet-50](http://ethereon.github.io/netscope/#/gist/db945b393d40bfa26006) model to detect dogs in images.  Our first line of code downloads the ResNet-50 model, along with weights that have been trained on [ImageNet](http://www.image-net.org/), a very large, very popular dataset used for image classification and other vision tasks.  ImageNet contains over 10 million URLs, each linking to an image containing an object from one of [1000 categories](https://gist.github.com/yrevar/942d3a0ac09ec9e5eb3a).  Given an image, this pre-trained ResNet-50 model returns a prediction (derived from the available categories in ImageNet) for the object that is contained in the image."
      ]
    },
    {
      "metadata": {
        "id": "jp3VthgqU-SQ",
        "colab_type": "code",
        "colab": {}
      },
      "cell_type": "code",
      "source": [
        "from keras.applications.resnet50 import ResNet50\n",
        "\n",
        "# define ResNet50 model\n",
        "ResNet50_model = ResNet50(weights='imagenet')"
      ],
      "execution_count": 0,
      "outputs": []
    },
    {
      "metadata": {
        "id": "7YMJYwHMU-ST",
        "colab_type": "text"
      },
      "cell_type": "markdown",
      "source": [
        "### Pre-process the Data\n",
        "\n",
        "When using TensorFlow as backend, Keras CNNs require a 4D array (which we'll also refer to as a 4D tensor) as input, with shape\n",
        "\n",
        "$$\n",
        "(\\text{nb_samples}, \\text{rows}, \\text{columns}, \\text{channels}),\n",
        "$$\n",
        "\n",
        "where `nb_samples` corresponds to the total number of images (or samples), and `rows`, `columns`, and `channels` correspond to the number of rows, columns, and channels for each image, respectively.  \n",
        "\n",
        "The `path_to_tensor` function below takes a string-valued file path to a color image as input and returns a 4D tensor suitable for supplying to a Keras CNN.  The function first loads the image and resizes it to a square image that is $224 \\times 224$ pixels.  Next, the image is converted to an array, which is then resized to a 4D tensor.  In this case, since we are working with color images, each image has three channels.  Likewise, since we are processing a single image (or sample), the returned tensor will always have shape\n",
        "\n",
        "$$\n",
        "(1, 224, 224, 3).\n",
        "$$\n",
        "\n",
        "The `paths_to_tensor` function takes a numpy array of string-valued image paths as input and returns a 4D tensor with shape \n",
        "\n",
        "$$\n",
        "(\\text{nb_samples}, 224, 224, 3).\n",
        "$$\n",
        "\n",
        "Here, `nb_samples` is the number of samples, or number of images, in the supplied array of image paths.  It is best to think of `nb_samples` as the number of 3D tensors (where each 3D tensor corresponds to a different image) in your dataset!"
      ]
    },
    {
      "metadata": {
        "id": "HWU1X9WwU-SV",
        "colab_type": "code",
        "colab": {}
      },
      "cell_type": "code",
      "source": [
        "from keras.preprocessing import image                  \n",
        "from tqdm import tqdm\n",
        "\n",
        "def path_to_tensor(img_path):\n",
        "    # loads RGB image as PIL.Image.Image type\n",
        "    img = image.load_img(img_path, target_size=(224, 224))\n",
        "    # convert PIL.Image.Image type to 3D tensor with shape (224, 224, 3)\n",
        "    x = image.img_to_array(img)\n",
        "    # convert 3D tensor to 4D tensor with shape (1, 224, 224, 3) and return 4D tensor\n",
        "    return np.expand_dims(x, axis=0)\n",
        "\n",
        "def paths_to_tensor(img_paths):\n",
        "    list_of_tensors = [path_to_tensor(img_path) for img_path in tqdm(img_paths)]\n",
        "    return np.vstack(list_of_tensors)"
      ],
      "execution_count": 0,
      "outputs": []
    },
    {
      "metadata": {
        "id": "J_Fe73loU-SX",
        "colab_type": "text"
      },
      "cell_type": "markdown",
      "source": [
        "### Making Predictions with ResNet-50\n",
        "\n",
        "Getting the 4D tensor ready for ResNet-50, and for any other pre-trained model in Keras, requires some additional processing.  First, the RGB image is converted to BGR by reordering the channels.  All pre-trained models have the additional normalization step that the mean pixel (expressed in RGB as $[103.939, 116.779, 123.68]$ and calculated from all pixels in all images in ImageNet) must be subtracted from every pixel in each image.  This is implemented in the imported function `preprocess_input`.  If you're curious, you can check the code for `preprocess_input` [here](https://github.com/fchollet/keras/blob/master/keras/applications/imagenet_utils.py).\n",
        "\n",
        "Now that we have a way to format our image for supplying to ResNet-50, we are now ready to use the model to extract the predictions.  This is accomplished with the `predict` method, which returns an array whose $i$-th entry is the model's predicted probability that the image belongs to the $i$-th ImageNet category.  This is implemented in the `ResNet50_predict_labels` function below.\n",
        "\n",
        "By taking the argmax of the predicted probability vector, we obtain an integer corresponding to the model's predicted object class, which we can identify with an object category through the use of this [dictionary](https://gist.github.com/yrevar/942d3a0ac09ec9e5eb3a). "
      ]
    },
    {
      "metadata": {
        "id": "Zya-RRN7U-SY",
        "colab_type": "code",
        "colab": {}
      },
      "cell_type": "code",
      "source": [
        "from keras.applications.resnet50 import preprocess_input, decode_predictions\n",
        "\n",
        "def ResNet50_predict_labels(img_path):\n",
        "    # returns prediction vector for image located at img_path\n",
        "    img = preprocess_input(path_to_tensor(img_path))\n",
        "    return np.argmax(ResNet50_model.predict(img))"
      ],
      "execution_count": 0,
      "outputs": []
    },
    {
      "metadata": {
        "id": "VErAyZt6U-Sa",
        "colab_type": "text"
      },
      "cell_type": "markdown",
      "source": [
        "### Write a Dog Detector\n",
        "\n",
        "While looking at the [dictionary](https://gist.github.com/yrevar/942d3a0ac09ec9e5eb3a), you will notice that the categories corresponding to dogs appear in an uninterrupted sequence and correspond to dictionary keys 151-268, inclusive, to include all categories from `'Chihuahua'` to `'Mexican hairless'`.  Thus, in order to check to see if an image is predicted to contain a dog by the pre-trained ResNet-50 model, we need only check if the `ResNet50_predict_labels` function above returns a value between 151 and 268 (inclusive).\n",
        "\n",
        "We use these ideas to complete the `dog_detector` function below, which returns `True` if a dog is detected in an image (and `False` if not)."
      ]
    },
    {
      "metadata": {
        "id": "8TmQQ6QEU-Sb",
        "colab_type": "code",
        "colab": {}
      },
      "cell_type": "code",
      "source": [
        "### returns \"True\" if a dog is detected in the image stored at img_path\n",
        "def dog_detector(img_path):\n",
        "    prediction = ResNet50_predict_labels(img_path)\n",
        "    return ((prediction <= 268) & (prediction >= 151)) "
      ],
      "execution_count": 0,
      "outputs": []
    },
    {
      "metadata": {
        "id": "ELDcKnwbU-Sd",
        "colab_type": "text"
      },
      "cell_type": "markdown",
      "source": [
        "### (IMPLEMENTATION) Assess the Dog Detector\n",
        "\n",
        "__Question 3:__ Use the code cell below to test the performance of your `dog_detector` function.  \n",
        "- What percentage of the images in `human_files_short` have a detected dog?  \n",
        "- What percentage of the images in `dog_files_short` have a detected dog?\n",
        "\n",
        "__Answer:__ "
      ]
    },
    {
      "metadata": {
        "id": "8E9bB5ySU-Se",
        "colab_type": "code",
        "colab": {}
      },
      "cell_type": "code",
      "source": [
        "### TODO: Test the performance of the dog_detector function\n",
        "### on the images in human_files_short and dog_files_short."
      ],
      "execution_count": 0,
      "outputs": []
    },
    {
      "metadata": {
        "id": "lyCAnfutU-Sf",
        "colab_type": "text"
      },
      "cell_type": "markdown",
      "source": [
        "---\n",
        "<a id='step3'></a>\n",
        "## Step 3: Create a CNN to Classify Dog Breeds (from Scratch)\n",
        "\n",
        "Now that we have functions for detecting humans and dogs in images, we need a way to predict breed from images.  In this step, you will create a CNN that classifies dog breeds.  You must create your CNN _from scratch_ (so, you can't use transfer learning _yet_!), and you must attain a test accuracy of at least 1%.  In Step 5 of this notebook, you will have the opportunity to use transfer learning to create a CNN that attains greatly improved accuracy.\n",
        "\n",
        "Be careful with adding too many trainable layers!  More parameters means longer training, which means you are more likely to need a GPU to accelerate the training process.  Thankfully, Keras provides a handy estimate of the time that each epoch is likely to take; you can extrapolate this estimate to figure out how long it will take for your algorithm to train. \n",
        "\n",
        "We mention that the task of assigning breed to dogs from images is considered exceptionally challenging.  To see why, consider that *even a human* would have great difficulty in distinguishing between a Brittany and a Welsh Springer Spaniel.  \n",
        "\n",
        "Brittany | Welsh Springer Spaniel\n",
        "- | - \n",
        "<img src=\"https://github.com/abhismatrix3/dog-project/blob/master/images/Brittany_02625.jpg?raw=1\" width=\"100\"> | <img src=\"https://github.com/abhismatrix3/dog-project/blob/master/images/Welsh_springer_spaniel_08203.jpg?raw=1\" width=\"200\">\n",
        "\n",
        "It is not difficult to find other dog breed pairs with minimal inter-class variation (for instance, Curly-Coated Retrievers and American Water Spaniels).  \n",
        "\n",
        "Curly-Coated Retriever | American Water Spaniel\n",
        "- | -\n",
        "<img src=\"https://github.com/abhismatrix3/dog-project/blob/master/images/Curly-coated_retriever_03896.jpg?raw=1\" width=\"200\"> | <img src=\"https://github.com/abhismatrix3/dog-project/blob/master/images/American_water_spaniel_00648.jpg?raw=1\" width=\"200\">\n",
        "\n",
        "\n",
        "Likewise, recall that labradors come in yellow, chocolate, and black.  Your vision-based algorithm will have to conquer this high intra-class variation to determine how to classify all of these different shades as the same breed.  \n",
        "\n",
        "Yellow Labrador | Chocolate Labrador | Black Labrador\n",
        "- | -\n",
        "<img src=\"https://github.com/abhismatrix3/dog-project/blob/master/images/Labrador_retriever_06457.jpg?raw=1\" width=\"150\"> | <img src=\"https://github.com/abhismatrix3/dog-project/blob/master/images/Labrador_retriever_06455.jpg?raw=1\" width=\"240\"> | <img src=\"https://github.com/abhismatrix3/dog-project/blob/master/images/Labrador_retriever_06449.jpg?raw=1\" width=\"220\">\n",
        "\n",
        "We also mention that random chance presents an exceptionally low bar: setting aside the fact that the classes are slightly imabalanced, a random guess will provide a correct answer roughly 1 in 133 times, which corresponds to an accuracy of less than 1%.  \n",
        "\n",
        "Remember that the practice is far ahead of the theory in deep learning.  Experiment with many different architectures, and trust your intuition.  And, of course, have fun! \n",
        "\n",
        "### Pre-process the Data\n",
        "\n",
        "We rescale the images by dividing every pixel in every image by 255."
      ]
    },
    {
      "metadata": {
        "id": "sdu28TXLU-Sg",
        "colab_type": "code",
        "colab": {}
      },
      "cell_type": "code",
      "source": [
        "from PIL import ImageFile                            \n",
        "ImageFile.LOAD_TRUNCATED_IMAGES = True                 \n",
        "\n",
        "# pre-process the data for Keras\n",
        "train_tensors = paths_to_tensor(train_files).astype('float32')/255\n",
        "valid_tensors = paths_to_tensor(valid_files).astype('float32')/255\n",
        "test_tensors = paths_to_tensor(test_files).astype('float32')/255"
      ],
      "execution_count": 0,
      "outputs": []
    },
    {
      "metadata": {
        "id": "6OUfp8KKU-Si",
        "colab_type": "text"
      },
      "cell_type": "markdown",
      "source": [
        "### (IMPLEMENTATION) Model Architecture\n",
        "\n",
        "Create a CNN to classify dog breed.  At the end of your code cell block, summarize the layers of your model by executing the line:\n",
        "    \n",
        "        model.summary()\n",
        "\n",
        "We have imported some Python modules to get you started, but feel free to import as many modules as you need.  If you end up getting stuck, here's a hint that specifies a model that trains relatively fast on CPU and attains >1% test accuracy in 5 epochs:\n",
        "\n",
        "![Sample CNN](https://github.com/abhismatrix3/dog-project/blob/master/images/sample_cnn.png?raw=1)\n",
        "           \n",
        "__Question 4:__ Outline the steps you took to get to your final CNN architecture and your reasoning at each step.  If you chose to use the hinted architecture above, describe why you think that CNN architecture should work well for the image classification task.\n",
        "\n",
        "__Answer:__ "
      ]
    },
    {
      "metadata": {
        "id": "lNP6db4cU-Si",
        "colab_type": "code",
        "colab": {}
      },
      "cell_type": "code",
      "source": [
        "from keras.layers import Conv2D, MaxPooling2D, GlobalAveragePooling2D\n",
        "from keras.layers import Dropout, Flatten, Dense\n",
        "from keras.models import Sequential\n",
        "\n",
        "model = Sequential()\n",
        "\n",
        "### TODO: Define your architecture.\n",
        "\n",
        "model.summary()"
      ],
      "execution_count": 0,
      "outputs": []
    },
    {
      "metadata": {
        "id": "Bpa1fSmFU-Sk",
        "colab_type": "text"
      },
      "cell_type": "markdown",
      "source": [
        "### Compile the Model"
      ]
    },
    {
      "metadata": {
        "id": "JI7TyouuU-Sl",
        "colab_type": "code",
        "colab": {}
      },
      "cell_type": "code",
      "source": [
        "model.compile(optimizer='rmsprop', loss='categorical_crossentropy', metrics=['accuracy'])"
      ],
      "execution_count": 0,
      "outputs": []
    },
    {
      "metadata": {
        "id": "t3y1P3zAU-Sn",
        "colab_type": "text"
      },
      "cell_type": "markdown",
      "source": [
        "### (IMPLEMENTATION) Train the Model\n",
        "\n",
        "Train your model in the code cell below.  Use model checkpointing to save the model that attains the best validation loss.\n",
        "\n",
        "You are welcome to [augment the training data](https://blog.keras.io/building-powerful-image-classification-models-using-very-little-data.html), but this is not a requirement. "
      ]
    },
    {
      "metadata": {
        "id": "hNo6SvyyU-So",
        "colab_type": "code",
        "colab": {}
      },
      "cell_type": "code",
      "source": [
        "from keras.callbacks import ModelCheckpoint  \n",
        "\n",
        "### TODO: specify the number of epochs that you would like to use to train the model.\n",
        "\n",
        "epochs = ...\n",
        "\n",
        "### Do NOT modify the code below this line.\n",
        "\n",
        "checkpointer = ModelCheckpoint(filepath='saved_models/weights.best.from_scratch.hdf5', \n",
        "                               verbose=1, save_best_only=True)\n",
        "\n",
        "model.fit(train_tensors, train_targets, \n",
        "          validation_data=(valid_tensors, valid_targets),\n",
        "          epochs=epochs, batch_size=20, callbacks=[checkpointer], verbose=1)"
      ],
      "execution_count": 0,
      "outputs": []
    },
    {
      "metadata": {
        "id": "matNzQPTU-Ss",
        "colab_type": "text"
      },
      "cell_type": "markdown",
      "source": [
        "### Load the Model with the Best Validation Loss"
      ]
    },
    {
      "metadata": {
        "id": "fILQX0OKU-St",
        "colab_type": "code",
        "colab": {}
      },
      "cell_type": "code",
      "source": [
        "model.load_weights('saved_models/weights.best.from_scratch.hdf5')"
      ],
      "execution_count": 0,
      "outputs": []
    },
    {
      "metadata": {
        "id": "UAc9vSukU-Sx",
        "colab_type": "text"
      },
      "cell_type": "markdown",
      "source": [
        "### Test the Model\n",
        "\n",
        "Try out your model on the test dataset of dog images.  Ensure that your test accuracy is greater than 1%."
      ]
    },
    {
      "metadata": {
        "id": "3wria7Q-U-Sy",
        "colab_type": "code",
        "colab": {}
      },
      "cell_type": "code",
      "source": [
        "# get index of predicted dog breed for each image in test set\n",
        "dog_breed_predictions = [np.argmax(model.predict(np.expand_dims(tensor, axis=0))) for tensor in test_tensors]\n",
        "\n",
        "# report test accuracy\n",
        "test_accuracy = 100*np.sum(np.array(dog_breed_predictions)==np.argmax(test_targets, axis=1))/len(dog_breed_predictions)\n",
        "print('Test accuracy: %.4f%%' % test_accuracy)"
      ],
      "execution_count": 0,
      "outputs": []
    },
    {
      "metadata": {
        "id": "iYAO9asCU-S1",
        "colab_type": "text"
      },
      "cell_type": "markdown",
      "source": [
        "---\n",
        "<a id='step4'></a>\n",
        "## Step 4: Use a CNN to Classify Dog Breeds\n",
        "\n",
        "To reduce training time without sacrificing accuracy, we show you how to train a CNN using transfer learning.  In the following step, you will get a chance to use transfer learning to train your own CNN.\n",
        "\n",
        "### Obtain Bottleneck Features"
      ]
    },
    {
      "metadata": {
        "id": "tojm0aheU-S4",
        "colab_type": "code",
        "colab": {}
      },
      "cell_type": "code",
      "source": [
        "bottleneck_features = np.load('bottleneck_features/DogVGG16Data.npz')\n",
        "train_VGG16 = bottleneck_features['train']\n",
        "valid_VGG16 = bottleneck_features['valid']\n",
        "test_VGG16 = bottleneck_features['test']"
      ],
      "execution_count": 0,
      "outputs": []
    },
    {
      "metadata": {
        "id": "CUxovNRnU-S6",
        "colab_type": "text"
      },
      "cell_type": "markdown",
      "source": [
        "### Model Architecture\n",
        "\n",
        "The model uses the the pre-trained VGG-16 model as a fixed feature extractor, where the last convolutional output of VGG-16 is fed as input to our model.  We only add a global average pooling layer and a fully connected layer, where the latter contains one node for each dog category and is equipped with a softmax."
      ]
    },
    {
      "metadata": {
        "id": "xX21rzxYU-S7",
        "colab_type": "code",
        "colab": {}
      },
      "cell_type": "code",
      "source": [
        "VGG16_model = Sequential()\n",
        "VGG16_model.add(GlobalAveragePooling2D(input_shape=train_VGG16.shape[1:]))\n",
        "VGG16_model.add(Dense(133, activation='softmax'))\n",
        "\n",
        "VGG16_model.summary()"
      ],
      "execution_count": 0,
      "outputs": []
    },
    {
      "metadata": {
        "id": "FbsJcxczU-TB",
        "colab_type": "text"
      },
      "cell_type": "markdown",
      "source": [
        "### Compile the Model"
      ]
    },
    {
      "metadata": {
        "id": "tcX_QdceU-TB",
        "colab_type": "code",
        "colab": {}
      },
      "cell_type": "code",
      "source": [
        "VGG16_model.compile(loss='categorical_crossentropy', optimizer='rmsprop', metrics=['accuracy'])"
      ],
      "execution_count": 0,
      "outputs": []
    },
    {
      "metadata": {
        "id": "BoyAnlJcU-TD",
        "colab_type": "text"
      },
      "cell_type": "markdown",
      "source": [
        "### Train the Model"
      ]
    },
    {
      "metadata": {
        "id": "9O0mlEVZU-TD",
        "colab_type": "code",
        "colab": {}
      },
      "cell_type": "code",
      "source": [
        "checkpointer = ModelCheckpoint(filepath='saved_models/weights.best.VGG16.hdf5', \n",
        "                               verbose=1, save_best_only=True)\n",
        "\n",
        "VGG16_model.fit(train_VGG16, train_targets, \n",
        "          validation_data=(valid_VGG16, valid_targets),\n",
        "          epochs=20, batch_size=20, callbacks=[checkpointer], verbose=1)"
      ],
      "execution_count": 0,
      "outputs": []
    },
    {
      "metadata": {
        "id": "cqzBaG-wU-TF",
        "colab_type": "text"
      },
      "cell_type": "markdown",
      "source": [
        "### Load the Model with the Best Validation Loss"
      ]
    },
    {
      "metadata": {
        "id": "Mq8wx6AAU-TG",
        "colab_type": "code",
        "colab": {}
      },
      "cell_type": "code",
      "source": [
        "VGG16_model.load_weights('saved_models/weights.best.VGG16.hdf5')"
      ],
      "execution_count": 0,
      "outputs": []
    },
    {
      "metadata": {
        "id": "Dcz4jQ_6U-TH",
        "colab_type": "text"
      },
      "cell_type": "markdown",
      "source": [
        "### Test the Model\n",
        "\n",
        "Now, we can use the CNN to test how well it identifies breed within our test dataset of dog images.  We print the test accuracy below."
      ]
    },
    {
      "metadata": {
        "id": "zAkgUW7JU-TK",
        "colab_type": "code",
        "colab": {}
      },
      "cell_type": "code",
      "source": [
        "# get index of predicted dog breed for each image in test set\n",
        "VGG16_predictions = [np.argmax(VGG16_model.predict(np.expand_dims(feature, axis=0))) for feature in test_VGG16]\n",
        "\n",
        "# report test accuracy\n",
        "test_accuracy = 100*np.sum(np.array(VGG16_predictions)==np.argmax(test_targets, axis=1))/len(VGG16_predictions)\n",
        "print('Test accuracy: %.4f%%' % test_accuracy)"
      ],
      "execution_count": 0,
      "outputs": []
    },
    {
      "metadata": {
        "id": "9UDEMhkaU-TM",
        "colab_type": "text"
      },
      "cell_type": "markdown",
      "source": [
        "### Predict Dog Breed with the Model"
      ]
    },
    {
      "metadata": {
        "id": "l6MJdDpqU-TM",
        "colab_type": "code",
        "colab": {}
      },
      "cell_type": "code",
      "source": [
        "\n",
        "\n",
        "from extract_bottleneck_features import *\n",
        "\n",
        "def VGG16_predict_breed(img_path):\n",
        "    # extract bottleneck features\n",
        "    bottleneck_feature = extract_VGG16(path_to_tensor(img_path))\n",
        "    # obtain predicted vector\n",
        "    predicted_vector = VGG16_model.predict(bottleneck_feature)\n",
        "    # return dog breed that is predicted by the model\n",
        "    return dog_names[np.argmax(predicted_vector)]"
      ],
      "execution_count": 0,
      "outputs": []
    },
    {
      "metadata": {
        "id": "mYrRJS34U-TO",
        "colab_type": "text"
      },
      "cell_type": "markdown",
      "source": [
        "---\n",
        "<a id='step5'></a>\n",
        "## Step 5: Create a CNN to Classify Dog Breeds (using Transfer Learning)\n",
        "\n",
        "You will now use transfer learning to create a CNN that can identify dog breed from images.  Your CNN must attain at least 60% accuracy on the test set.\n",
        "\n",
        "In Step 4, we used transfer learning to create a CNN using VGG-16 bottleneck features.  In this section, you must use the bottleneck features from a different pre-trained model.  To make things easier for you, we have pre-computed the features for all of the networks that are currently available in Keras:\n",
        "- [VGG-19](https://s3-us-west-1.amazonaws.com/udacity-aind/dog-project/DogVGG19Data.npz) bottleneck features\n",
        "- [ResNet-50](https://s3-us-west-1.amazonaws.com/udacity-aind/dog-project/DogResnet50Data.npz) bottleneck features\n",
        "- [Inception](https://s3-us-west-1.amazonaws.com/udacity-aind/dog-project/DogInceptionV3Data.npz) bottleneck features\n",
        "- [Xception](https://s3-us-west-1.amazonaws.com/udacity-aind/dog-project/DogXceptionData.npz) bottleneck features\n",
        "\n",
        "The files are encoded as such:\n",
        "\n",
        "    Dog{network}Data.npz\n",
        "    \n",
        "where `{network}`, in the above filename, can be one of `VGG19`, `Resnet50`, `InceptionV3`, or `Xception`.  Pick one of the above architectures, download the corresponding bottleneck features, and store the downloaded file in the `bottleneck_features/` folder in the repository.\n",
        "same as in step 00:-\n",
        "\n",
        "%%sh\n",
        "wget 'https://s3-us-west-1.amazonaws.com/udacity-aind/dog-project/DogVGG16Data.npz' -P '/g/My Drive/dog-project/bottleneck_features'\n",
        "\n",
        "\n",
        "### (IMPLEMENTATION) Obtain Bottleneck Features\n",
        "\n",
        "In the code block below, extract the bottleneck features corresponding to the train, test, and validation sets by running the following:\n",
        "\n",
        "    bottleneck_features = np.load('bottleneck_features/Dog{network}Data.npz')\n",
        "    train_{network} = bottleneck_features['train']\n",
        "    valid_{network} = bottleneck_features['valid']\n",
        "    test_{network} = bottleneck_features['test']"
      ]
    },
    {
      "metadata": {
        "id": "eg2Fiwj6U-TP",
        "colab_type": "code",
        "colab": {}
      },
      "cell_type": "code",
      "source": [
        "### TODO: Obtain bottleneck features from another pre-trained CNN."
      ],
      "execution_count": 0,
      "outputs": []
    },
    {
      "metadata": {
        "id": "v-8YTrEWU-TW",
        "colab_type": "text"
      },
      "cell_type": "markdown",
      "source": [
        "### (IMPLEMENTATION) Model Architecture\n",
        "\n",
        "Create a CNN to classify dog breed.  At the end of your code cell block, summarize the layers of your model by executing the line:\n",
        "    \n",
        "        <your model's name>.summary()\n",
        "   \n",
        "__Question 5:__ Outline the steps you took to get to your final CNN architecture and your reasoning at each step.  Describe why you think the architecture is suitable for the current problem.\n",
        "\n",
        "__Answer:__ \n",
        "\n"
      ]
    },
    {
      "metadata": {
        "id": "P04OJprBU-TX",
        "colab_type": "code",
        "colab": {}
      },
      "cell_type": "code",
      "source": [
        "### TODO: Define your architecture."
      ],
      "execution_count": 0,
      "outputs": []
    },
    {
      "metadata": {
        "id": "5Cmsip0NU-Ta",
        "colab_type": "text"
      },
      "cell_type": "markdown",
      "source": [
        "### (IMPLEMENTATION) Compile the Model"
      ]
    },
    {
      "metadata": {
        "id": "G9mUwLWbU-Tb",
        "colab_type": "code",
        "colab": {}
      },
      "cell_type": "code",
      "source": [
        "### TODO: Compile the model."
      ],
      "execution_count": 0,
      "outputs": []
    },
    {
      "metadata": {
        "id": "YhT8jSscU-Tg",
        "colab_type": "text"
      },
      "cell_type": "markdown",
      "source": [
        "### (IMPLEMENTATION) Train the Model\n",
        "\n",
        "Train your model in the code cell below.  Use model checkpointing to save the model that attains the best validation loss.  \n",
        "\n",
        "You are welcome to [augment the training data](https://blog.keras.io/building-powerful-image-classification-models-using-very-little-data.html), but this is not a requirement. "
      ]
    },
    {
      "metadata": {
        "id": "pntJ-7CgU-Th",
        "colab_type": "code",
        "colab": {}
      },
      "cell_type": "code",
      "source": [
        "### TODO: Train the model."
      ],
      "execution_count": 0,
      "outputs": []
    },
    {
      "metadata": {
        "id": "GACLFjrPU-Ty",
        "colab_type": "text"
      },
      "cell_type": "markdown",
      "source": [
        "### (IMPLEMENTATION) Load the Model with the Best Validation Loss"
      ]
    },
    {
      "metadata": {
        "id": "XWw8FXbMU-Ty",
        "colab_type": "code",
        "colab": {}
      },
      "cell_type": "code",
      "source": [
        "### TODO: Load the model weights with the best validation loss."
      ],
      "execution_count": 0,
      "outputs": []
    },
    {
      "metadata": {
        "id": "-nuf6NseU-T1",
        "colab_type": "text"
      },
      "cell_type": "markdown",
      "source": [
        "### (IMPLEMENTATION) Test the Model\n",
        "\n",
        "Try out your model on the test dataset of dog images. Ensure that your test accuracy is greater than 60%."
      ]
    },
    {
      "metadata": {
        "id": "-u8IYmXpU-T1",
        "colab_type": "code",
        "colab": {}
      },
      "cell_type": "code",
      "source": [
        "### TODO: Calculate classification accuracy on the test dataset."
      ],
      "execution_count": 0,
      "outputs": []
    },
    {
      "metadata": {
        "id": "9giS7c4_U-T3",
        "colab_type": "text"
      },
      "cell_type": "markdown",
      "source": [
        "### (IMPLEMENTATION) Predict Dog Breed with the Model\n",
        "\n",
        "Write a function that takes an image path as input and returns the dog breed (`Affenpinscher`, `Afghan_hound`, etc) that is predicted by your model.  \n",
        "\n",
        "Similar to the analogous function in Step 5, your function should have three steps:\n",
        "1. Extract the bottleneck features corresponding to the chosen CNN model.\n",
        "2. Supply the bottleneck features as input to the model to return the predicted vector.  Note that the argmax of this prediction vector gives the index of the predicted dog breed.\n",
        "3. Use the `dog_names` array defined in Step 0 of this notebook to return the corresponding breed.\n",
        "\n",
        "The functions to extract the bottleneck features can be found in `extract_bottleneck_features.py`, and they have been imported in an earlier code cell.  To obtain the bottleneck features corresponding to your chosen CNN architecture, you need to use the function\n",
        "\n",
        "    extract_{network}\n",
        "    \n",
        "where `{network}`, in the above filename, should be one of `VGG19`, `Resnet50`, `InceptionV3`, or `Xception`."
      ]
    },
    {
      "metadata": {
        "id": "73_gf7_4U-T3",
        "colab_type": "code",
        "colab": {}
      },
      "cell_type": "code",
      "source": [
        "### TODO: Write a function that takes a path to an image as input\n",
        "### and returns the dog breed that is predicted by the model."
      ],
      "execution_count": 0,
      "outputs": []
    },
    {
      "metadata": {
        "id": "KSO2X0FnU-T5",
        "colab_type": "text"
      },
      "cell_type": "markdown",
      "source": [
        "---\n",
        "<a id='step6'></a>\n",
        "## Step 6: Write your Algorithm\n",
        "\n",
        "Write an algorithm that accepts a file path to an image and first determines whether the image contains a human, dog, or neither.  Then,\n",
        "- if a __dog__ is detected in the image, return the predicted breed.\n",
        "- if a __human__ is detected in the image, return the resembling dog breed.\n",
        "- if __neither__ is detected in the image, provide output that indicates an error.\n",
        "\n",
        "You are welcome to write your own functions for detecting humans and dogs in images, but feel free to use the `face_detector` and `dog_detector` functions developed above.  You are __required__ to use your CNN from Step 5 to predict dog breed.  \n",
        "\n",
        "Some sample output for our algorithm is provided below, but feel free to design your own user experience!\n",
        "\n",
        "![Sample Human Output](https://github.com/abhismatrix3/dog-project/blob/master/images/sample_human_output.png?raw=1)\n",
        "\n",
        "\n",
        "### (IMPLEMENTATION) Write your Algorithm"
      ]
    },
    {
      "metadata": {
        "id": "aT-rO7c4U-T5",
        "colab_type": "code",
        "colab": {}
      },
      "cell_type": "code",
      "source": [
        "### TODO: Write your algorithm.\n",
        "### Feel free to use as many code cells as needed."
      ],
      "execution_count": 0,
      "outputs": []
    },
    {
      "metadata": {
        "id": "PNuIQRVVU-T8",
        "colab_type": "text"
      },
      "cell_type": "markdown",
      "source": [
        "---\n",
        "<a id='step7'></a>\n",
        "## Step 7: Test Your Algorithm\n",
        "\n",
        "In this section, you will take your new algorithm for a spin!  What kind of dog does the algorithm think that __you__ look like?  If you have a dog, does it predict your dog's breed accurately?  If you have a cat, does it mistakenly think that your cat is a dog?\n",
        "\n",
        "### (IMPLEMENTATION) Test Your Algorithm on Sample Images!\n",
        "\n",
        "Test your algorithm at least six images on your computer.  Feel free to use any images you like.  Use at least two human and two dog images.  \n",
        "\n",
        "__Question 6:__ Is the output better than you expected :) ?  Or worse :( ?  Provide at least three possible points of improvement for your algorithm.\n",
        "\n",
        "__Answer:__ "
      ]
    },
    {
      "metadata": {
        "id": "mYgLlPSwU-T-",
        "colab_type": "code",
        "colab": {}
      },
      "cell_type": "code",
      "source": [
        "## TODO: Execute your algorithm from Step 6 on\n",
        "## at least 6 images on your computer.\n",
        "## Feel free to use as many code cells as needed."
      ],
      "execution_count": 0,
      "outputs": []
    }
  ]
}